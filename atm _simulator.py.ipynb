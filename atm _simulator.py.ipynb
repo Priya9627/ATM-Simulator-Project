{
 "cells": [
  {
   "cell_type": "code",
   "execution_count": 1,
   "id": "6a3bb161",
   "metadata": {},
   "outputs": [
    {
     "name": "stdout",
     "output_type": "stream",
     "text": [
      "Enter your PIN: 1234\n",
      "\n",
      "Options:\n",
      "1. Check Balance\n",
      "2. Deposit\n",
      "3. Withdraw\n",
      "4. Exit\n",
      "Select an option (1/2/3/4): 4\n",
      "Exiting. Thank you!\n"
     ]
    }
   ],
   "source": [
    "#ATM SIMULATOR PROJECT\n",
    "\n",
    "#Objective:-\n",
    "\n",
    "# The objective of the project is to build an application which is exactly working as an ATM machine.\n",
    "# You need to include the basic functionalities such as check balance, withdraw, deposit and exit of an ATM machine.\n",
    "# The input for the application from the user is to enter the pin then ask the user to select an appropriate option\n",
    "# and perform it accordingly.\n",
    "\n",
    "\n",
    "\n",
    "class ATM:\n",
    "    def __init__(self, balance, pin):\n",
    "        self.balance = balance\n",
    "        self.pin = pin\n",
    "\n",
    "    def check_balance(self):\n",
    "        return self.balance\n",
    "\n",
    "    def deposit(self, amount):\n",
    "        self.balance += amount\n",
    "        return f\"Deposited ${amount}. New balance: ${self.balance}\"\n",
    "\n",
    "    def withdraw(self, amount):\n",
    "        if amount <= self.balance:\n",
    "            self.balance -= amount\n",
    "            return f\"Withdrew ${amount}. New balance: ${self.balance}\"\n",
    "        else:\n",
    "            return \"Insufficient balance.\"\n",
    "\n",
    "# Initialize the ATM Machine\n",
    "pin = input(\"Enter your PIN: \")\n",
    "atm = ATM(100, pin)  # Starting balance is 100\n",
    "\n",
    "# Main loop of the Program\n",
    "while True:\n",
    "    print(\"\\nOptions:\")\n",
    "    print(\"1. Check Balance\")\n",
    "    print(\"2. Deposit\")\n",
    "    print(\"3. Withdraw\")\n",
    "    print(\"4. Exit\")\n",
    "    option = input(\"Select an option (1/2/3/4): \")\n",
    "\n",
    "    if option == \"1\":\n",
    "        print(\"Balance: $\", atm.check_balance())\n",
    "    elif option == \"2\":\n",
    "        amount = float(input(\"Enter the deposit amount: $\"))\n",
    "        print(atm.deposit(amount))\n",
    "    elif option == \"3\":\n",
    "        amount = float(input(\"Enter the withdrawal amount: $\"))\n",
    "        print(atm.withdraw(amount))\n",
    "    elif option == \"4\":\n",
    "        print(\"Exiting. Thank you!\")\n",
    "        break\n",
    "    else:\n",
    "        print(\"Invalid option. Please select 1, 2, 3, or 4.\")"
   ]
  },
  {
   "cell_type": "code",
   "execution_count": null,
   "id": "6b0ad18f",
   "metadata": {},
   "outputs": [],
   "source": []
  }
 ],
 "metadata": {
  "kernelspec": {
   "display_name": "Python 3 (ipykernel)",
   "language": "python",
   "name": "python3"
  },
  "language_info": {
   "codemirror_mode": {
    "name": "ipython",
    "version": 3
   },
   "file_extension": ".py",
   "mimetype": "text/x-python",
   "name": "python",
   "nbconvert_exporter": "python",
   "pygments_lexer": "ipython3",
   "version": "3.11.4"
  }
 },
 "nbformat": 4,
 "nbformat_minor": 5
}
